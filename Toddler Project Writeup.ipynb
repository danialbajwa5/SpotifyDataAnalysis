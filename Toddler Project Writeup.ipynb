{
 "cells": [
  {
   "cell_type": "markdown",
   "id": "ee8a40b6-9b46-4b42-b38a-8a9db5c09997",
   "metadata": {},
   "source": [
    "# SpotifyDataAnalysis Repository"
   ]
  },
  {
   "cell_type": "markdown",
   "id": "ec92651d-93c8-4c3d-acd5-ec5be9ce1824",
   "metadata": {},
   "source": [
    "### Project Overview\n",
    "The SpotifyDataAnalysis on GitHub is a data analysis project that I created which is aimed at exploring trends in people's Spotify listening history. The project includes the cleaning, analysis, and visuals for the Spotify data used. Leveraging the datasets allows for patterns and insights to be observed relating to people's music preferences."
   ]
  },
  {
   "cell_type": "markdown",
   "id": "0523207e-6d6a-4dfa-95fb-8c1b64ea8ef9",
   "metadata": {},
   "source": [
    "### Repository Structure\n",
    "The GitHub repository is organized into multiple folders and files for better accessibility. Below are the explanations of the two folders:\n",
    "\n",
    "#### Data and Scripts:\n",
    "This folder contains the core analysis notebooks and data used in the project. The Baby Project.ipynb file is the initial Assignment 3 file that cleans up the first dataset used and creates visuals to analyze trends found within the listening history of Spotify users. The Toddler Project.ipynb file is the extended analysis that contains both the listening history dataset and the track metadata and cleans and merges the datasets to allow for a deeper analysis of the Spotify data. The spotify track metadata is also found in this folder.\n",
    "\n",
    "#### Documents:\n",
    "This folder contains supporting documentation of the initial Baby Project. The two files included in this folder are Baby Project.html and Baby Project.md. Both files are just html and markdown versions of the Baby Project."
   ]
  },
  {
   "cell_type": "markdown",
   "id": "cd98ce19-7cb9-4eda-b393-84b48fb0f247",
   "metadata": {},
   "source": [
    "#### .gitignore and README.md\n",
    "The .gitignore file includes the initial Spotify listening history dataset because it was specified in the Assignment 3 instructions to move that data into the gitignore file for simplicity. The README.me file contains a short overview of the Spotify listening history dataset and contains its source."
   ]
  },
  {
   "cell_type": "code",
   "execution_count": null,
   "id": "f54993cd-a4a7-4c10-8015-7fffe1ddc4de",
   "metadata": {},
   "outputs": [],
   "source": []
  }
 ],
 "metadata": {
  "kernelspec": {
   "display_name": "Python [conda env:base] *",
   "language": "python",
   "name": "conda-base-py"
  },
  "language_info": {
   "codemirror_mode": {
    "name": "ipython",
    "version": 3
   },
   "file_extension": ".py",
   "mimetype": "text/x-python",
   "name": "python",
   "nbconvert_exporter": "python",
   "pygments_lexer": "ipython3",
   "version": "3.12.7"
  }
 },
 "nbformat": 4,
 "nbformat_minor": 5
}
